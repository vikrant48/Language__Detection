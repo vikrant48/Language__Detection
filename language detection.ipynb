{
 "cells": [
  {
   "cell_type": "code",
   "execution_count": 1,
   "id": "be45132f",
   "metadata": {
    "scrolled": true
   },
   "outputs": [
    {
     "name": "stdout",
     "output_type": "stream",
     "text": [
      "please say something\n",
      "Error :\n"
     ]
    },
    {
     "ename": "UnboundLocalError",
     "evalue": "cannot access local variable 'audio_text' where it is not associated with a value",
     "output_type": "error",
     "traceback": [
      "\u001b[1;31m---------------------------------------------------------------------------\u001b[0m",
      "\u001b[1;31mUnboundLocalError\u001b[0m                         Traceback (most recent call last)",
      "Cell \u001b[1;32mIn[1], line 60\u001b[0m\n\u001b[0;32m     56\u001b[0m \u001b[38;5;66;03m# Example usage:\u001b[39;00m\n\u001b[0;32m     59\u001b[0m audio_file \u001b[38;5;241m=\u001b[39m \u001b[38;5;124m\"\u001b[39m\u001b[38;5;124m\"\u001b[39m  \u001b[38;5;66;03m# Replace with your audio file path\u001b[39;00m\n\u001b[1;32m---> 60\u001b[0m language \u001b[38;5;241m=\u001b[39m \u001b[43mdetect_language_from_audio\u001b[49m\u001b[43m(\u001b[49m\u001b[43maudio_file\u001b[49m\u001b[43m)\u001b[49m\n\u001b[0;32m     61\u001b[0m \u001b[38;5;28mprint\u001b[39m(\u001b[38;5;124m\"\u001b[39m\u001b[38;5;124mDetected language:\u001b[39m\u001b[38;5;124m\"\u001b[39m, language)\n",
      "Cell \u001b[1;32mIn[1], line 39\u001b[0m, in \u001b[0;36mdetect_language_from_audio\u001b[1;34m(audio_file)\u001b[0m\n\u001b[0;32m     35\u001b[0m     \u001b[38;5;28mprint\u001b[39m(\u001b[38;5;124m\"\u001b[39m\u001b[38;5;124mError :\u001b[39m\u001b[38;5;124m\"\u001b[39m \u001b[38;5;241m+\u001b[39m\u001b[38;5;28mstr\u001b[39m(e))\n\u001b[0;32m     37\u001b[0m \u001b[38;5;28;01mtry\u001b[39;00m:\n\u001b[0;32m     38\u001b[0m     \u001b[38;5;66;03m#text = recognizer.recognize_google(audio_data) \u001b[39;00m\n\u001b[1;32m---> 39\u001b[0m     language \u001b[38;5;241m=\u001b[39m detect(translate_to_oriLanguage(\u001b[43maudio_text\u001b[49m))\n\u001b[0;32m     40\u001b[0m     \u001b[38;5;28mprint\u001b[39m(translate_to_oriLanguage(audio_text))\n\u001b[0;32m     41\u001b[0m     \u001b[38;5;28;01mreturn\u001b[39;00m language\n",
      "\u001b[1;31mUnboundLocalError\u001b[0m: cannot access local variable 'audio_text' where it is not associated with a value"
     ]
    }
   ],
   "source": [
    "import speech_recognition as sr\n",
    "from langdetect import detect\n",
    "from googletrans import Translator\n",
    "     \n",
    "    \n",
    "def detect_language_from_audio(audio_file):\n",
    "    if len(audio_file)>0:\n",
    "       \n",
    "        recognizer = sr.Recognizer()\n",
    "        with sr.AudioFile(audio_file) as source:\n",
    "            audio_data = recognizer.record(source)\n",
    "        try:\n",
    "            text = recognizer.recognize_google(audio_data) \n",
    "            language = detect(translate_to_oriLanguage(text))\n",
    "            print(translate_to_oriLanguage(text))\n",
    "            return language \n",
    "        except sr.UnknownValueError:\n",
    "            return \"Unknown\"\n",
    "        \n",
    "    else:\n",
    "            r = sr.Recognizer()\n",
    "            with sr.Microphone() as source:\n",
    "    \n",
    "                r.adjust_for_ambient_noise(source)\n",
    "    \n",
    "                print(\"please say something\")\n",
    "                audio = r.listen(source)\n",
    " \n",
    "                \n",
    "            try:\n",
    "                audio_text=r.recognize_google(audio)\n",
    "                print(audio_text)\n",
    "        \n",
    "            except Exception as e:\n",
    "                print(\"Error :\" +str(e))\n",
    "    \n",
    "            try:\n",
    "                #text = recognizer.recognize_google(audio_data) \n",
    "                language = detect(translate_to_oriLanguage(audio_text))\n",
    "                print(translate_to_oriLanguage(audio_text))\n",
    "                return language\n",
    "            except sr.UnknownValueError:\n",
    "                return \"Unknown\"\n",
    "            \n",
    "\n",
    "    \n",
    "def translate_to_oriLanguage(text):\n",
    "    translator = Translator()\n",
    "    detected_lang = translator.detect(text).lang\n",
    "    #print(detected_lang)\n",
    "    translated = translator.translate(text, src=detected_lang, dest= detected_lang)\n",
    "    return translated.text\n",
    "\n",
    "\n",
    "\n",
    "# Example usage:\n",
    "\n",
    "        \n",
    "audio_file = \"\"  # Replace with your audio file path\n",
    "language = detect_language_from_audio(audio_file)\n",
    "print(\"Detected language:\", language)"
   ]
  },
  {
   "cell_type": "code",
   "execution_count": null,
   "id": "d4711e17",
   "metadata": {},
   "outputs": [],
   "source": []
  },
  {
   "cell_type": "code",
   "execution_count": null,
   "id": "7967019d",
   "metadata": {},
   "outputs": [],
   "source": []
  },
  {
   "cell_type": "code",
   "execution_count": null,
   "id": "c16aaada",
   "metadata": {},
   "outputs": [],
   "source": []
  }
 ],
 "metadata": {
  "kernelspec": {
   "display_name": "Python 3 (ipykernel)",
   "language": "python",
   "name": "python3"
  },
  "language_info": {
   "codemirror_mode": {
    "name": "ipython",
    "version": 3
   },
   "file_extension": ".py",
   "mimetype": "text/x-python",
   "name": "python",
   "nbconvert_exporter": "python",
   "pygments_lexer": "ipython3",
   "version": "3.11.2"
  }
 },
 "nbformat": 4,
 "nbformat_minor": 5
}
