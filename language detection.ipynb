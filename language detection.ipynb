{
 "cells": [
  {
   "cell_type": "code",
   "execution_count": 1,
   "id": "be45132f",
   "metadata": {
    "scrolled": true
   },
   "outputs": [
    {
     "name": "stdout",
     "output_type": "stream",
     "text": [
      "please say something\n",
      "hello my name is Vikrant\n",
      "hello my name is Vikrant\n",
      "Detected language: en\n"
     ]
    }
   ],
   "source": [
    "import speech_recognition as sr\n",
    "from langdetect import detect\n",
    "from googletrans import Translator\n",
    "     \n",
    "    \n",
    "def detect_language_from_audio(audio_file):\n",
    "    if len(audio_file)>0:\n",
    "       \n",
    "        recognizer = sr.Recognizer()\n",
    "        with sr.AudioFile(audio_file) as source:\n",
    "            audio_data = recognizer.record(source)\n",
    "        try:\n",
    "            text = recognizer.recognize_google(audio_data) \n",
    "            language = detect(translate_to_oriLanguage(text))\n",
    "            print(translate_to_oriLanguage(text))\n",
    "            return language \n",
    "        except sr.UnknownValueError:\n",
    "            return \"Unknown\"\n",
    "        \n",
    "    else:\n",
    "            r = sr.Recognizer()\n",
    "            with sr.Microphone() as source:\n",
    "    \n",
    "                r.adjust_for_ambient_noise(source)\n",
    "    \n",
    "                print(\"please say something\")\n",
    "                audio = r.listen(source)\n",
    " \n",
    "                \n",
    "            try:\n",
    "                audio_text=r.recognize_google(audio)\n",
    "                print(audio_text)\n",
    "        \n",
    "            except Exception as e:\n",
    "                print(\"Error :\" +str(e))\n",
    "    \n",
    "            try:\n",
    "                #text = recognizer.recognize_google(audio_data) \n",
    "                language = detect(translate_to_oriLanguage(audio_text))\n",
    "                print(translate_to_oriLanguage(audio_text))\n",
    "                return language\n",
    "            except sr.UnknownValueError:\n",
    "                return \"Unknown\"\n",
    "            \n",
    "\n",
    "    \n",
    "def translate_to_oriLanguage(text):\n",
    "    translator = Translator()\n",
    "    detected_lang = translator.detect(text).lang\n",
    "    #print(detected_lang)\n",
    "    translated = translator.translate(text, src=detected_lang, dest= detected_lang)\n",
    "    return translated.text\n",
    "\n",
    "\n",
    "\n",
    "# Example usage:\n",
    "\n",
    "        \n",
    "audio_file = \"\"  # Replace with your audio file path\n",
    "language = detect_language_from_audio(audio_file)\n",
    "print(\"Detected language:\", language)"
   ]
  }
 ],
 "metadata": {
  "kernelspec": {
   "display_name": "Python 3 (ipykernel)",
   "language": "python",
   "name": "python3"
  },
  "language_info": {
   "codemirror_mode": {
    "name": "ipython",
    "version": 3
   },
   "file_extension": ".py",
   "mimetype": "text/x-python",
   "name": "python",
   "nbconvert_exporter": "python",
   "pygments_lexer": "ipython3",
   "version": "3.11.2"
  }
 },
 "nbformat": 4,
 "nbformat_minor": 5
}
